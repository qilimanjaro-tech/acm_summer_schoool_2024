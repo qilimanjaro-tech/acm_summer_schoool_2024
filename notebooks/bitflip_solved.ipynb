{
 "cells": [
  {
   "cell_type": "markdown",
   "metadata": {},
   "source": [
    "# The Basics: Circuits, Qibo and Qiboconnection"
   ]
  },
  {
   "cell_type": "markdown",
   "metadata": {},
   "source": [
    "## A Bitflip With Qibo"
   ]
  },
  {
   "cell_type": "markdown",
   "metadata": {},
   "source": [
    "Probably, the most basic operation that we can perform on a qbit is a bitflip. This operation consist on, given any basis state, inverting its value: \n",
    "$$ \\left| 0 \\right> \\rightarrow \\left| 1 \\right>, \\left| 1 \\right> \\rightarrow \\left| 0 \\right>$$\n",
    "\n",
    "\n",
    "Given that we always take meassurements on the Z axis, the bitflip can be applied by performing a simple Pauli X-Gate. This is, a $\\pi$ radian rotation along the X axis.\n",
    "\n",
    "<img src=\"./media/x_gate.png\" alt=\"x_gate\" class=\"bg-primary\" width=\"580\" style=\"display=block; margin-left:auto; margin-right:auto\"/>\n",
    "\n"
   ]
  },
  {
   "cell_type": "markdown",
   "metadata": {},
   "source": [
    "We will use this as a first exercise with Qibo circuits. Lets first import everything we need.\n",
    "* [Qibo Circuits](https://qibo.science/qibo/stable/api-reference/qibo.html#circuit-models)\n",
    "* [Qibo Gates](https://qibo.science/qibo/stable/api-reference/qibo.html#gates)"
   ]
  },
  {
   "cell_type": "code",
   "execution_count": 2,
   "metadata": {},
   "outputs": [],
   "source": [
    "# Imports\n",
    "\n",
    "from qibo.gates import X, M\n",
    "from qibo.models.circuit import Circuit"
   ]
  },
  {
   "cell_type": "code",
   "execution_count": 3,
   "metadata": {},
   "outputs": [
    {
     "data": {
      "text/plain": [
       "MeasurementResult(qubits=(0, 1, 2, 3, 4), nshots=0)"
      ]
     },
     "execution_count": 3,
     "metadata": {},
     "output_type": "execute_result"
    }
   ],
   "source": [
    "# Build the circuit. Create a circuit instance and add to it an X gate to the 0th qbit and a Meassurement to all qbits.\n",
    "\n",
    "circuit = Circuit(nqubits=5)\n",
    "circuit.add(X(0))\n",
    "circuit.add(M(0, 1, 2, 3, 4))"
   ]
  },
  {
   "cell_type": "markdown",
   "metadata": {},
   "source": [
    "We can check the circuit using the `.summary()` and `.draw()` methods."
   ]
  },
  {
   "cell_type": "code",
   "execution_count": 7,
   "metadata": {},
   "outputs": [
    {
     "name": "stdout",
     "output_type": "stream",
     "text": [
      "q0: ─X─M─\n",
      "q1: ───M─\n",
      "q2: ───M─\n",
      "q3: ───M─\n",
      "q4: ───M─\n"
     ]
    }
   ],
   "source": [
    "# Look at the outputs of summary and draw infomrative methods.\n",
    "\n",
    "print(circuit.draw())"
   ]
  },
  {
   "cell_type": "code",
   "execution_count": 8,
   "metadata": {},
   "outputs": [
    {
     "name": "stdout",
     "output_type": "stream",
     "text": [
      "Circuit depth = 2\n",
      "Total number of gates = 2\n",
      "Number of qubits = 5\n",
      "Most common gates:\n",
      "x: 1\n",
      "measure: 1\n"
     ]
    }
   ],
   "source": [
    "print(circuit.summary())"
   ]
  },
  {
   "cell_type": "markdown",
   "metadata": {},
   "source": [
    "We can finally call `execute()` to simmulate the execution of the circuit. We can examine the resulting object to see that the results are the expected ones.\n",
    "\n",
    "For simple circuits, we expect a the results to be an instance of `qibo.result.CircuitResult`, but more complex circuits could also return a `qibo.result.QuantumState`, or a `qibo.result.MeasurementOutcomes`. Choosing a different qibo backend will also lead to different result objects. Docs are available at:\n",
    "* [Circuit.execute()](https://qibo.science/qibo/stable/api-reference/qibo.html#qibo.models.circuit.Circuit.execute)\n",
    "* [CircuitResult](https://qibo.science/qibo/stable/api-reference/qibo.html#qibo.result.CircuitResult)\n",
    "* [QuantumState](https://qibo.science/qibo/stable/api-reference/qibo.html#qibo.result.QuantumState)\n",
    "* [MeasurementOutcomes](https://qibo.science/qibo/stable/api-reference/qibo.html#qibo.result.MeasurementOutcomes)"
   ]
  },
  {
   "cell_type": "code",
   "execution_count": 15,
   "metadata": {},
   "outputs": [
    {
     "data": {
      "text/plain": [
       "qibo.result.CircuitResult"
      ]
     },
     "execution_count": 15,
     "metadata": {},
     "output_type": "execute_result"
    }
   ],
   "source": [
    "# Execute the circuit.\n",
    "\n",
    "results = circuit.execute(nshots=1000)\n",
    "type(results)"
   ]
  },
  {
   "cell_type": "markdown",
   "metadata": {},
   "source": [
    "Several methods exist for examining the outcome of an execution. `frequencies()` counts the ocurrences of each state, `probabilities()` computes the `frequencies() / nshots` for each possible state in order, and `samples()` **generates** a distribution of states based on the theoretical distribution. More info on the api for each class, linked above."
   ]
  },
  {
   "cell_type": "code",
   "execution_count": 18,
   "metadata": {},
   "outputs": [
    {
     "data": {
      "text/plain": [
       "Counter({'10000': 1000})"
      ]
     },
     "execution_count": 18,
     "metadata": {},
     "output_type": "execute_result"
    }
   ],
   "source": [
    "# Check the frequencies, probabilities and sample methods.\n",
    "results.frequencies()"
   ]
  },
  {
   "cell_type": "code",
   "execution_count": 22,
   "metadata": {},
   "outputs": [
    {
     "data": {
      "text/plain": [
       "array([0., 0., 0., 0., 0., 0., 0., 0., 0., 0., 0., 0., 0., 0., 0., 0., 1.,\n",
       "       0., 0., 0., 0., 0., 0., 0., 0., 0., 0., 0., 0., 0., 0., 0.])"
      ]
     },
     "execution_count": 22,
     "metadata": {},
     "output_type": "execute_result"
    }
   ],
   "source": [
    "results.probabilities()"
   ]
  },
  {
   "cell_type": "code",
   "execution_count": 17,
   "metadata": {},
   "outputs": [
    {
     "data": {
      "text/plain": [
       "array([[1, 0, 0, 0, 0],\n",
       "       [1, 0, 0, 0, 0],\n",
       "       [1, 0, 0, 0, 0],\n",
       "       ...,\n",
       "       [1, 0, 0, 0, 0],\n",
       "       [1, 0, 0, 0, 0],\n",
       "       [1, 0, 0, 0, 0]], dtype=int32)"
      ]
     },
     "execution_count": 17,
     "metadata": {},
     "output_type": "execute_result"
    }
   ],
   "source": [
    "results.samples()"
   ]
  },
  {
   "cell_type": "markdown",
   "metadata": {},
   "source": [
    "## Circuits through Qiboconnection"
   ]
  },
  {
   "cell_type": "markdown",
   "metadata": {},
   "source": [
    "Unless specified otherwise, qibo executions will happen locally in simulation. This is fine for small circuits, but may only lead you so far. We are going to see how we can send executions to Qilimanjaro's Quantum As A Service."
   ]
  },
  {
   "cell_type": "markdown",
   "metadata": {},
   "source": [
    "For doing so, first things first, you need to create a `.env` file in the root of this repo, and add there your credentials for our service: \n",
    "\n",
    "```env\n",
    "#.env\n",
    "API_USER = <insert here your username, without brackets>\n",
    "API_KEY = <insert here you api-key, without brackets>\n",
    "```"
   ]
  },
  {
   "cell_type": "code",
   "execution_count": 21,
   "metadata": {},
   "outputs": [
    {
     "data": {
      "text/plain": [
       "True"
      ]
     },
     "execution_count": 21,
     "metadata": {},
     "output_type": "execute_result"
    }
   ],
   "source": [
    "# Do the imports, and load .env file into env variables available in the python session.\n",
    "\n",
    "from qiboconnection import API\n",
    "from dotenv import load_dotenv\n",
    "import os\n",
    "\n",
    "load_dotenv()"
   ]
  },
  {
   "cell_type": "markdown",
   "metadata": {},
   "source": [
    "In `qiboconnection`, the central class is `API`. Once instanced with the credentials, it exposes the main methods for iteracting with Qilimanjaro's QGQS."
   ]
  },
  {
   "cell_type": "code",
   "execution_count": 23,
   "metadata": {},
   "outputs": [],
   "source": [
    "# Log into QGQS creting an API instance with its .login() constructor.\n",
    "\n",
    "api = API.login(\n",
    "    username=os.getenv(\"API_USER\"),\n",
    "    api_key=os.getenv(\"API_KEY\"),\n",
    ")"
   ]
  },
  {
   "cell_type": "markdown",
   "metadata": {},
   "source": [
    "`API.list_devices` allows to see which devices we have available for execution. We can queue jobs despite their current status."
   ]
  },
  {
   "cell_type": "code",
   "execution_count": 24,
   "metadata": {},
   "outputs": [
    {
     "data": {
      "text/plain": [
       "<Devices[2]:[\n",
       "  {\n",
       "    \"status\": \"online\",\n",
       "    \"type\": \"device\",\n",
       "    \"number_pending_jobs\": 0,\n",
       "    \"name\": \"Saruman\",\n",
       "    \"id\": 16\n",
       "  },\n",
       "  {\n",
       "    \"status\": \"offline\",\n",
       "    \"type\": \"device\",\n",
       "    \"number_pending_jobs\": 0,\n",
       "    \"name\": \"Radagast Simulator\",\n",
       "    \"id\": 1\n",
       "  }\n",
       "]>"
      ]
     },
     "execution_count": 24,
     "metadata": {},
     "output_type": "execute_result"
    }
   ],
   "source": [
    "# Use API.list_devices() to see the available devices.\n",
    "\n",
    "api.list_devices()"
   ]
  },
  {
   "cell_type": "markdown",
   "metadata": {},
   "source": [
    "Then, we can issue the execution of a job by calling the instance method `API.execute()`. For starters, we can execute the same circuit we have above, and compare the results. To execute, we can send a qibo circuit, a list of qibo circuits, or a `qpgrogram` (more info on that later)."
   ]
  },
  {
   "cell_type": "code",
   "execution_count": 19,
   "metadata": {},
   "outputs": [
    {
     "data": {
      "text/plain": [
       "13277"
      ]
     },
     "execution_count": 19,
     "metadata": {},
     "output_type": "execute_result"
    }
   ],
   "source": [
    "# Issue an execution and save the execution id into a variable.\n",
    "\n",
    "job_id = api.execute(circuit=circuit, device_id=16, nshots=10)\n",
    "job_id"
   ]
  },
  {
   "cell_type": "code",
   "execution_count": 21,
   "metadata": {},
   "outputs": [
    {
     "name": "stderr",
     "output_type": "stream",
     "text": [
      "Your job with id 13277 is completed.\n"
     ]
    },
    {
     "data": {
      "text/plain": [
       "'completed'"
      ]
     },
     "execution_count": 21,
     "metadata": {},
     "output_type": "execute_result"
    }
   ],
   "source": [
    "# Recover the job data by calling API.get_job() with your assigned execution ID. Your execution might spend some time before being executed, after calling get_job(), you can check the jobs queue_position and status.\n",
    "\n",
    "job = api.get_job(13277)\n",
    "job.status"
   ]
  },
  {
   "cell_type": "code",
   "execution_count": 22,
   "metadata": {},
   "outputs": [
    {
     "data": {
      "text/plain": [
       "[{'probabilities': {'00000': 0.1,\n",
       "   '10000': 0.5,\n",
       "   '10010': 0.1,\n",
       "   '10100': 0.1,\n",
       "   '11000': 0.2},\n",
       "  'counts': {'00000': 1, '10000': 5, '10010': 1, '10100': 1, '11000': 2},\n",
       "  'samples': [[1, 1, 0, 0, 0],\n",
       "   [1, 0, 0, 0, 0],\n",
       "   [1, 0, 0, 0, 0],\n",
       "   [1, 1, 0, 0, 0],\n",
       "   [0, 0, 0, 0, 0],\n",
       "   [1, 0, 1, 0, 0],\n",
       "   [1, 0, 0, 0, 0],\n",
       "   [1, 0, 0, 0, 0],\n",
       "   [1, 0, 0, 0, 0],\n",
       "   [1, 0, 0, 1, 0]]}]"
      ]
     },
     "execution_count": 22,
     "metadata": {},
     "output_type": "execute_result"
    }
   ],
   "source": [
    "# Once the job status is completed, check its result attribute.\n",
    "\n",
    "job.result"
   ]
  },
  {
   "cell_type": "code",
   "execution_count": null,
   "metadata": {},
   "outputs": [],
   "source": []
  }
 ],
 "metadata": {
  "kernelspec": {
   "display_name": "Python 3",
   "language": "python",
   "name": "python3"
  },
  "language_info": {
   "codemirror_mode": {
    "name": "ipython",
    "version": 3
   },
   "file_extension": ".py",
   "mimetype": "text/x-python",
   "name": "python",
   "nbconvert_exporter": "python",
   "pygments_lexer": "ipython3",
   "version": "3.10.14"
  }
 },
 "nbformat": 4,
 "nbformat_minor": 2
}
