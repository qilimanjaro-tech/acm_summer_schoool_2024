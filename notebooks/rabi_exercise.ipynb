{
 "cells": [
  {
   "attachments": {},
   "cell_type": "markdown",
   "id": "5b710e5d",
   "metadata": {
    "papermill": {
     "duration": 0.00238,
     "end_time": "2023-12-21T17:08:18.726917",
     "exception": false,
     "start_time": "2023-12-21T17:08:18.724537",
     "status": "completed"
    },
    "tags": []
   },
   "source": [
    "## Practical Exercise: Program a Rabi experiment\n",
    "\n",
    "\n",
    "Qililab supports pulse-level programming through the QProgram class. This exercise aims to introduce students to pulse-level programming using QProgram by guiding them through a Rabi experiment, which is an essential step in the calibration cycle of any quantum computer."
   ]
  },
  {
   "attachments": {},
   "cell_type": "markdown",
   "id": "f5c2d65f",
   "metadata": {
    "papermill": {
     "duration": 0.001905,
     "end_time": "2023-12-21T17:08:18.730962",
     "exception": false,
     "start_time": "2023-12-21T17:08:18.729057",
     "status": "completed"
    },
    "tags": []
   },
   "source": [
    "### What is a Rabi Experiment?"
   ]
  },
  {
   "attachments": {},
   "cell_type": "markdown",
   "id": "a078ad70",
   "metadata": {
    "papermill": {
     "duration": 0.001849,
     "end_time": "2023-12-21T17:08:18.734722",
     "exception": false,
     "start_time": "2023-12-21T17:08:18.732873",
     "status": "completed"
    },
    "tags": []
   },
   "source": [
    "A Rabi experiment aims to find the drive pulse amplitude that will excite a qubit from \n",
    "ground state, $| 0 \\rangle$, to the excited state, $| 1 \\rangle$. To achieve this, we scan the pulse amplitude to observe the driving period of the qubit, which is best illustrated in the Bloch sphere.\n",
    "As the amplitude increases, the qubit is driven to the \n",
    "excited state, and back to the ground state, that is, a $360\\degree$ rotation around $\\sigma_x$ on the Bloch sphere.\n",
    "\n",
    "\n",
    "<div>\n",
    "<img src=\"media/bloch.gif\" width=\"300\"/>\n",
    "</div>\n"
   ]
  },
  {
   "cell_type": "markdown",
   "id": "029e6432",
   "metadata": {
    "papermill": {
     "duration": 0.002095,
     "end_time": "2023-12-21T17:08:18.738732",
     "exception": false,
     "start_time": "2023-12-21T17:08:18.736637",
     "status": "completed"
    },
    "tags": []
   },
   "source": [
    "The amplitude corresponding to one half of the driving cycle is the Rabi amplitude, which is the pulse amplitude needed to perform an excitation\n",
    "from $| 0 \\rangle$ to $| 1 \\rangle$. \n",
    "\n",
    "\n",
    "<!-- This translates into the next basic circuit:\n",
    "\n",
    "<div>\n",
    "<img src=\"images/rabi_circuit.png\" width=\"300\"/>\n",
    "</div>\n",
    "\n",
    "In this circuit, we are performing first a rotation of $\\pi$ radians around the $X$ axis of the Bloch sphere, starting from the\n",
    "ground state, which should drive our qubit to the excited state. Then we measure the expected value, on the $Z$ axis base, this is\n",
    "$\\langle \\sigma_z \\rangle$ and register the measured value. \n",
    "\n",
    "Breaking this step by step, starting in the ground state $| 0 \\rangle = \\left[\\begin{array}{ll}\n",
    "1 & 0\n",
    "\\end{array}\\right]^T$ we first perform the $\\pi$ radians rotation about the $X$ axis of the Bloch sphere:\n",
    "\n",
    "$R_x\\left(\\pi\\right)=e^{-i \\pi \\sigma_x / 2}=\\left[\\begin{array}{cc}\n",
    "\\cos \\cfrac{\\pi}{2} & -i \\sin \\cfrac{\\pi}{2} \\\\\n",
    "-i \\sin \\cfrac{\\pi}{2} & \\cos \\cfrac{\\pi}{2}\n",
    "\\end{array}\\right] = \\left[\\begin{array}{cc}\n",
    "0 & -i  \\\\\n",
    "-i & 0\n",
    "\\end{array}\\right]$\n",
    "\n",
    "after which the qubit is in the state $| \\psi \\rangle = R_x | 0 \\rangle$. All we have to do now is to measure the expectation value \n",
    "of the qubit on the $Z$ axis of the Bloch sphere $\\langle \\psi | \\sigma_z | \\psi \\rangle$, by using the Pauli-Z operator\n",
    "\n",
    "$\\sigma_z=\\left[\\begin{array}{cc}\n",
    "1 & 0 \\\\\n",
    "0 & -1\n",
    "\\end{array}\\right]$\n",
    "\n",
    "which gives us an expectation value of $-1$, meaning our qubit is now in the excited $| 1 \\rangle = \\left[\\begin{array}{ll}\n",
    "0 & 1\n",
    "\\end{array}\\right]^T$. -->\n",
    "\n",
    "\n",
    "<!-- Let's think of how to implement this circuit and the full experiment using Qililab. -->"
   ]
  },
  {
   "cell_type": "markdown",
   "id": "5a2cd631",
   "metadata": {},
   "source": [
    "### What will the QProgram look like?"
   ]
  },
  {
   "cell_type": "markdown",
   "id": "3ef8f035",
   "metadata": {},
   "source": [
    "\n",
    "The QProgram we need to perform a Rabi of experiment will consist of the following procedure:\n",
    "\n",
    "1. **Drive pulse:** A drive pulse is sent to the drive bus of the qubit, altering the qubit's state on the Bloch sphere. The amplitude of this pulse is the variable we will loop over.\n",
    "\n",
    "2. **Measurement Pulse and Acquisition:** A measurement pulse is sent to the measurement bus, followed by signal acquisition on the same bus (note that the readout input and output are mapped to the same bus). A waiting time must be set between the measurement pulse and acquisition to account for the time of flight—the time it takes for the pulse to travel to the quantum chip and back to the digitizer. This can be approximated by the speed of light multiplied by the length of the path the pulse travels.\n",
    "\n",
    "3. We will loop over this sequence, varying the drive pulse amplitude using a for loop.\n",
    "\n",
    "4. The whole sequence should be repeated within a hardware averaging loop, with sufficient waiting time between iterations. Performing the experiment multiple times and averaging the results will help obtain a cleaner signal, reducing inherent system noise.\n",
    "\n",
    "\n",
    "Note: To ensure simplicity and consistency, all students should conduct their experiments on QUBIT 4."
   ]
  },
  {
   "cell_type": "markdown",
   "id": "dd254e07",
   "metadata": {},
   "source": [
    "## Let's start programming!"
   ]
  },
  {
   "attachments": {},
   "cell_type": "markdown",
   "id": "8fbf78b9",
   "metadata": {
    "papermill": {
     "duration": 0.001876,
     "end_time": "2023-12-21T17:08:18.742584",
     "exception": false,
     "start_time": "2023-12-21T17:08:18.740708",
     "status": "completed"
    },
    "tags": []
   },
   "source": [
    "#### Importing Qililab, API and Other Useful Packages"
   ]
  },
  {
   "cell_type": "code",
   "execution_count": 7,
   "id": "832f9770",
   "metadata": {
    "execution": {
     "iopub.execute_input": "2023-12-21T17:08:18.747611Z",
     "iopub.status.busy": "2023-12-21T17:08:18.747379Z",
     "iopub.status.idle": "2023-12-21T17:08:20.403576Z",
     "shell.execute_reply": "2023-12-21T17:08:20.403042Z"
    },
    "papermill": {
     "duration": 1.66024,
     "end_time": "2023-12-21T17:08:20.404792",
     "exception": false,
     "start_time": "2023-12-21T17:08:18.744552",
     "status": "completed"
    },
    "tags": []
   },
   "outputs": [],
   "source": [
    "import qililab\n",
    "from qililab.utils import from_dict\n",
    "from qililab import QProgram, Domain, IQPair, Square, Gaussian\n",
    "from qiboconnection.api import API\n",
    "from qiboconnection.connection import ConnectionConfiguration\n",
    "import matplotlib.pyplot as plt\n",
    "import numpy as np"
   ]
  },
  {
   "cell_type": "markdown",
   "id": "d4d13ed8",
   "metadata": {},
   "source": [
    "#### Initialise API with your credentials\n",
    "\n"
   ]
  },
  {
   "cell_type": "code",
   "execution_count": 8,
   "id": "bd2bccd3",
   "metadata": {},
   "outputs": [
    {
     "name": "stderr",
     "output_type": "stream",
     "text": [
      "/home/mtena/envs/qililab/lib/python3.10/site-packages/qiboconnection/api.py:217: UserWarning:This method is deprecated and will be removed in the following Qiboconnection release. Use device_id argument in execute() method instead.\n"
     ]
    }
   ],
   "source": [
    "api = API(ConnectionConfiguration(username=\"yourusername\", api_key=\"yourkey\"))\n",
    "api.select_device_id(16)"
   ]
  },
  {
   "cell_type": "markdown",
   "id": "38b11a83",
   "metadata": {},
   "source": [
    "#### Define waveforms\n",
    "\n",
    "Using pulse-level programming, we gain direct access to the shape of the pulses (the waveforms) that control our quantum chip. You will need one waveform for the drive pulse, another for the readout pulse, and integration weights for the acquisition. \n",
    "\n",
    "You can refer to the solved exercise for guidance, but we encourage experimenting with different approaches."
   ]
  },
  {
   "cell_type": "code",
   "execution_count": null,
   "id": "4ec03c77",
   "metadata": {},
   "outputs": [],
   "source": [
    "# Retrieve runcard to see the calibrated gates waveform parameters\n",
    "\n",
    "runcard = api.get_runcard(runcard_name=\"saruman\")\n",
    "runcard_as_dict = runcard.runcard\n",
    "\n",
    "# readout_duration = runcard_as_dict[\"gates_settings\"][\"gates\"][f\"M(4)\"][...\n",
    "# readout_amplitud = ...\n",
    "\n",
    "# create waveforms\n",
    "from qililab import IQPair, Gaussian, Square\n",
    "\n",
    "\n",
    "# drive_wf =\n",
    "\n",
    "\n",
    "# readout_wf = \n",
    "\n",
    "\n",
    "# weights = \n",
    "\n"
   ]
  },
  {
   "attachments": {},
   "cell_type": "markdown",
   "id": "7554e72d",
   "metadata": {
    "papermill": {
     "duration": 0.002082,
     "end_time": "2023-12-21T17:08:20.409088",
     "exception": false,
     "start_time": "2023-12-21T17:08:20.407006",
     "status": "completed"
    },
    "tags": []
   },
   "source": [
    "#### Define experiment parameters\n",
    "\n",
    "You will need the following experimental parameters to write the qprogram:\n",
    "\n",
    "- The number of hardware averages ( <span style=\"color:darkblue\"> HW_AVG </span> ). Repeating the sequence and averaging is essential to obtain a clear signal. For the current system, we will need around 1_000-5_000 averages.\n",
    "\n",
    "- The Relax duration (<span style=\"color:darkblue\">   RELAX_DURATION  </span>  ) is the wait from one execution to the next. This wait time accounts for the extra time required for the qubit to relax back to its ground state. For the case of a transmon qubit, a wait time of 200_000 ns is sufficient.\n",
    "\n",
    "- The time of flight (<span style=\"color:darkblue\"> TOF </span> ) is the time it takes for the pulse to travel to the quantum chip and back to the digitizer. The TOF has been calibrated for this system, and should be set to 200 ns."
   ]
  },
  {
   "cell_type": "code",
   "execution_count": null,
   "id": "f85a5b7b",
   "metadata": {},
   "outputs": [],
   "source": [
    "# HW_AVG =\n",
    "# RELAX_DURATION = \n",
    "# TOF= "
   ]
  },
  {
   "cell_type": "markdown",
   "id": "b2a8bc03",
   "metadata": {
    "papermill": {
     "duration": 0.004264,
     "end_time": "2023-12-21T17:08:20.431128",
     "exception": false,
     "start_time": "2023-12-21T17:08:20.426864",
     "status": "completed"
    },
    "tags": []
   },
   "source": [
    "### Create the quantum program with QProrgam"
   ]
  },
  {
   "cell_type": "markdown",
   "id": "0c50da9f",
   "metadata": {},
   "source": [
    "With the parameters and waveforms defined, we now have all the necessary components to build the QProgram. You can refer to the solved exercise for guidance, but we encourage experimenting with different approaches until you find out what works. Good luck !\n"
   ]
  },
  {
   "cell_type": "code",
   "execution_count": 18,
   "id": "ded0681f",
   "metadata": {},
   "outputs": [],
   "source": [
    "# Bus names\n",
    "readout_bus= \"readout_q4_bus\"\n",
    "drive_bus = \"drive_q4_bus\"\n",
    "\n",
    "# Initialise QProgram:\n",
    "\n",
    "\n",
    "\n",
    "# Declare a variable for the for loop:\n",
    "\n",
    "\n",
    "\n",
    "# Define the amplitude values to loop over:\n",
    "\n",
    "\n",
    "\n",
    "# Write program:\n",
    "    # with qp_rabi...\n",
    "\n"
   ]
  },
  {
   "cell_type": "markdown",
   "id": "d96055c1",
   "metadata": {},
   "source": [
    "### Execute the Qprogram and retrieve the results"
   ]
  },
  {
   "cell_type": "code",
   "execution_count": null,
   "id": "44198661",
   "metadata": {},
   "outputs": [],
   "source": [
    "job_id = api.execute(qprogram= qp_rabi.to_dict(), name=\"yourname\")[0]\n",
    "job_id"
   ]
  },
  {
   "cell_type": "code",
   "execution_count": null,
   "id": "6811acb5",
   "metadata": {},
   "outputs": [],
   "source": [
    "job_result = api.get_result(job_id)\n",
    "results = from_dict(job_result)\n",
    "results_array= results.results[readout_bus][0].array"
   ]
  },
  {
   "cell_type": "markdown",
   "id": "93ffb17a",
   "metadata": {},
   "source": [
    "If your execution fails, you can check the error logs with the following:"
   ]
  },
  {
   "cell_type": "code",
   "execution_count": null,
   "id": "7f40eaf6",
   "metadata": {},
   "outputs": [],
   "source": [
    "api.get_job(job_id).logs"
   ]
  },
  {
   "cell_type": "markdown",
   "id": "a1f29192",
   "metadata": {
    "papermill": {
     "duration": 0.004979,
     "end_time": "2023-12-21T17:08:53.209571",
     "exception": false,
     "start_time": "2023-12-21T17:08:53.204592",
     "status": "completed"
    },
    "tags": []
   },
   "source": [
    "### Plot and fit your data and find the Rabi amplitude"
   ]
  },
  {
   "cell_type": "code",
   "execution_count": 23,
   "id": "27ee741b",
   "metadata": {},
   "outputs": [],
   "source": [
    "# You can use the following function to plot the in-phase and quadrature voltages.\n",
    "\n",
    "def plot_iq(xdata, results: np.ndarray, title_label: str, xlabel: str):\n",
    "    fig, axes = plt.subplots(1, 2, figsize=(13, 7))\n",
    "\n",
    "    if isinstance(axes, np.ndarray):\n",
    "        axes[0].plot(xdata, results[0], \"--o\", color=\"blue\")\n",
    "        axes[1].plot(xdata, results[1], \"--o\", color=\"blue\")\n",
    "        axes[0].set_title(\"I\")\n",
    "        axes[1].set_title(\"Q\")\n",
    "        axes[0].set_xlabel(xlabel)\n",
    "        axes[1].set_xlabel(xlabel)\n",
    "        axes[0].set_ylabel(\"Voltage [a.u.]\")\n",
    "        axes[1].set_ylabel(\"Voltage [a.u.]\")\n",
    "        \n",
    "    fig.suptitle(title_label)\n",
    "    return fig, axes\n",
    "\n",
    "\n",
    "# You can use the following function to fit your signal with a sinusoidal function, or write a fit of your own.\n",
    "import lmfit\n",
    "\n",
    "def fit_results_sinus(x_array, iq_array):\n",
    "\n",
    "    def sinus(x, a, b, c, d):\n",
    "        return a * np.sin(b * np.array(x) - c) + d\n",
    "    \n",
    "    for fit_quadrature in [\"i\", \"q\"]:\n",
    "        data_array = iq_array[0] if fit_quadrature == \"i\" else iq_array[1]\n",
    "\n",
    "        #Sinus fit\n",
    "        mod = lmfit.Model(sinus)\n",
    "\n",
    "        ff = np.fft.fftfreq(len(x_array), (x_array[1] - x_array[0])) * 2 * np.pi  # assume uniform spacing\n",
    "        Fyy = abs(np.fft.fft(data_array))\n",
    "        Fyy\n",
    "        guess_freq = abs(ff[np.argmax(Fyy[1:]) + 1])  # excluding the zero frequency \"peak\", which is related to offset\n",
    "        guess_amp = np.std(data_array) * 2.0**0.5\n",
    "        guess_offset = np.mean(data_array)\n",
    "\n",
    "        # Set initial guesses\n",
    "        mod.set_param_hint(\"a\", value= guess_amp )\n",
    "        mod.set_param_hint(\"b\", value=guess_freq)\n",
    "        mod.set_param_hint(\"c\", value=0)\n",
    "        mod.set_param_hint(\"d\", value=guess_offset)\n",
    "        guess_freq\n",
    "        params = mod.make_params()\n",
    "        fit = mod.fit(data=data_array, params=params, x=x_array, method=\"basinhopping\")\n",
    "\n",
    "        a_value = fit.params[\"a\"].value\n",
    "        b_value = fit.params[\"b\"].value\n",
    "        c_value = fit.params[\"c\"].value\n",
    "        d_value = fit.params[\"d\"].value\n",
    "        popt = [a_value, b_value, c_value, d_value]\n",
    "\n",
    "        # Rabi amplitude is the half period amplitude\n",
    "        rabi_amp = np.pi/b_value\n",
    "        # Find closes amplitude in array\n",
    "\n",
    "        fit_plot = sinus(x_array, *popt)\n",
    "        fig, axes = plot_iq(xdata=x_array, results=iq_array, title_label=f\"Rabi experiment\", xlabel=\"Drive pulse amplitude (V)\")\n",
    "        ax = axes[0 if fit_quadrature == \"i\" else 1]\n",
    "        ax.plot(x_array, fit_plot, \"--\", color=\"red\", label=\"Sinusodial fit\" )\n",
    "        ax.vlines(rabi_amp, ymin=min(data_array), ymax=max(data_array), linestyles =\"dashed\", color=\"orange\",label=f\"Fitted Rabi amplitude = {rabi_amp:.3f}\" )\n",
    "        ax.legend()"
   ]
  },
  {
   "cell_type": "code",
   "execution_count": null,
   "id": "be8b56d1",
   "metadata": {},
   "outputs": [],
   "source": [
    "# Plot and fit\n",
    "\n"
   ]
  },
  {
   "cell_type": "markdown",
   "id": "5fa9df01",
   "metadata": {},
   "source": [
    "### Finally share and compare your results with peers. Congratulations, you just performed a Qubit calibration experiment! "
   ]
  }
 ],
 "metadata": {
  "kernelspec": {
   "display_name": "qililab",
   "language": "python",
   "name": "python3"
  },
  "language_info": {
   "codemirror_mode": {
    "name": "ipython",
    "version": 3
   },
   "file_extension": ".py",
   "mimetype": "text/x-python",
   "name": "python",
   "nbconvert_exporter": "python",
   "pygments_lexer": "ipython3",
   "version": "3.10.12"
  },
  "papermill": {
   "default_parameters": {},
   "duration": 36.323742,
   "end_time": "2023-12-21T17:08:54.315082",
   "environment_variables": {},
   "exception": null,
   "input_path": "rabi.ipynb",
   "output_path": "0-rabi.ipynb",
   "parameters": {},
   "start_time": "2023-12-21T17:08:17.991340",
   "version": "2.4.0"
  },
  "widgets": {
   "application/vnd.jupyter.widget-state+json": {
    "state": {
     "27682ca915f14100932932bc8efb049a": {
      "model_module": "@jupyter-widgets/controls",
      "model_module_version": "2.0.0",
      "model_name": "HTMLModel",
      "state": {
       "_dom_classes": [],
       "_model_module": "@jupyter-widgets/controls",
       "_model_module_version": "2.0.0",
       "_model_name": "HTMLModel",
       "_view_count": null,
       "_view_module": "@jupyter-widgets/controls",
       "_view_module_version": "2.0.0",
       "_view_name": "HTMLView",
       "description": "",
       "description_allow_html": false,
       "layout": "IPY_MODEL_56695c9575704216a72e80f7ffeaf219",
       "placeholder": "​",
       "style": "IPY_MODEL_ad30a5338aee4c8dbd7dfbb63e03768d",
       "tabbable": null,
       "tooltip": null,
       "value": " 61/61 [00:26&lt;00:00,  2.30it/s]"
      }
     },
     "3271805f8c5a421a888ccbac0ed130f3": {
      "model_module": "@jupyter-widgets/controls",
      "model_module_version": "2.0.0",
      "model_name": "HTMLModel",
      "state": {
       "_dom_classes": [],
       "_model_module": "@jupyter-widgets/controls",
       "_model_module_version": "2.0.0",
       "_model_name": "HTMLModel",
       "_view_count": null,
       "_view_module": "@jupyter-widgets/controls",
       "_view_module_version": "2.0.0",
       "_view_name": "HTMLView",
       "description": "",
       "description_allow_html": false,
       "layout": "IPY_MODEL_e73b192c1c474d27808a0202edaa114c",
       "placeholder": "​",
       "style": "IPY_MODEL_685bf78a2817440c933b6d8c0e510997",
       "tabbable": null,
       "tooltip": null,
       "value": "Amplitude: 100%"
      }
     },
     "56695c9575704216a72e80f7ffeaf219": {
      "model_module": "@jupyter-widgets/base",
      "model_module_version": "2.0.0",
      "model_name": "LayoutModel",
      "state": {
       "_model_module": "@jupyter-widgets/base",
       "_model_module_version": "2.0.0",
       "_model_name": "LayoutModel",
       "_view_count": null,
       "_view_module": "@jupyter-widgets/base",
       "_view_module_version": "2.0.0",
       "_view_name": "LayoutView",
       "align_content": null,
       "align_items": null,
       "align_self": null,
       "border_bottom": null,
       "border_left": null,
       "border_right": null,
       "border_top": null,
       "bottom": null,
       "display": null,
       "flex": null,
       "flex_flow": null,
       "grid_area": null,
       "grid_auto_columns": null,
       "grid_auto_flow": null,
       "grid_auto_rows": null,
       "grid_column": null,
       "grid_gap": null,
       "grid_row": null,
       "grid_template_areas": null,
       "grid_template_columns": null,
       "grid_template_rows": null,
       "height": null,
       "justify_content": null,
       "justify_items": null,
       "left": null,
       "margin": null,
       "max_height": null,
       "max_width": null,
       "min_height": null,
       "min_width": null,
       "object_fit": null,
       "object_position": null,
       "order": null,
       "overflow": null,
       "padding": null,
       "right": null,
       "top": null,
       "visibility": null,
       "width": null
      }
     },
     "685bf78a2817440c933b6d8c0e510997": {
      "model_module": "@jupyter-widgets/controls",
      "model_module_version": "2.0.0",
      "model_name": "HTMLStyleModel",
      "state": {
       "_model_module": "@jupyter-widgets/controls",
       "_model_module_version": "2.0.0",
       "_model_name": "HTMLStyleModel",
       "_view_count": null,
       "_view_module": "@jupyter-widgets/base",
       "_view_module_version": "2.0.0",
       "_view_name": "StyleView",
       "background": null,
       "description_width": "",
       "font_size": null,
       "text_color": null
      }
     },
     "71f345b4cf8240888b87da481ab09a46": {
      "model_module": "@jupyter-widgets/controls",
      "model_module_version": "2.0.0",
      "model_name": "HBoxModel",
      "state": {
       "_dom_classes": [],
       "_model_module": "@jupyter-widgets/controls",
       "_model_module_version": "2.0.0",
       "_model_name": "HBoxModel",
       "_view_count": null,
       "_view_module": "@jupyter-widgets/controls",
       "_view_module_version": "2.0.0",
       "_view_name": "HBoxView",
       "box_style": "",
       "children": [
        "IPY_MODEL_3271805f8c5a421a888ccbac0ed130f3",
        "IPY_MODEL_d01ca0edea1546c8b7c526bca9e69013",
        "IPY_MODEL_27682ca915f14100932932bc8efb049a"
       ],
       "layout": "IPY_MODEL_b6d2519657704db49e68a1005e353b7f",
       "tabbable": null,
       "tooltip": null
      }
     },
     "a2f0c7e1e364400d9a09ddf0c78587b4": {
      "model_module": "@jupyter-widgets/controls",
      "model_module_version": "2.0.0",
      "model_name": "ProgressStyleModel",
      "state": {
       "_model_module": "@jupyter-widgets/controls",
       "_model_module_version": "2.0.0",
       "_model_name": "ProgressStyleModel",
       "_view_count": null,
       "_view_module": "@jupyter-widgets/base",
       "_view_module_version": "2.0.0",
       "_view_name": "StyleView",
       "bar_color": null,
       "description_width": ""
      }
     },
     "ad30a5338aee4c8dbd7dfbb63e03768d": {
      "model_module": "@jupyter-widgets/controls",
      "model_module_version": "2.0.0",
      "model_name": "HTMLStyleModel",
      "state": {
       "_model_module": "@jupyter-widgets/controls",
       "_model_module_version": "2.0.0",
       "_model_name": "HTMLStyleModel",
       "_view_count": null,
       "_view_module": "@jupyter-widgets/base",
       "_view_module_version": "2.0.0",
       "_view_name": "StyleView",
       "background": null,
       "description_width": "",
       "font_size": null,
       "text_color": null
      }
     },
     "b6d2519657704db49e68a1005e353b7f": {
      "model_module": "@jupyter-widgets/base",
      "model_module_version": "2.0.0",
      "model_name": "LayoutModel",
      "state": {
       "_model_module": "@jupyter-widgets/base",
       "_model_module_version": "2.0.0",
       "_model_name": "LayoutModel",
       "_view_count": null,
       "_view_module": "@jupyter-widgets/base",
       "_view_module_version": "2.0.0",
       "_view_name": "LayoutView",
       "align_content": null,
       "align_items": null,
       "align_self": null,
       "border_bottom": null,
       "border_left": null,
       "border_right": null,
       "border_top": null,
       "bottom": null,
       "display": null,
       "flex": null,
       "flex_flow": null,
       "grid_area": null,
       "grid_auto_columns": null,
       "grid_auto_flow": null,
       "grid_auto_rows": null,
       "grid_column": null,
       "grid_gap": null,
       "grid_row": null,
       "grid_template_areas": null,
       "grid_template_columns": null,
       "grid_template_rows": null,
       "height": null,
       "justify_content": null,
       "justify_items": null,
       "left": null,
       "margin": null,
       "max_height": null,
       "max_width": null,
       "min_height": null,
       "min_width": null,
       "object_fit": null,
       "object_position": null,
       "order": null,
       "overflow": null,
       "padding": null,
       "right": null,
       "top": null,
       "visibility": null,
       "width": null
      }
     },
     "c0afcf2b72734e8daec6ac8964858c4f": {
      "model_module": "@jupyter-widgets/base",
      "model_module_version": "2.0.0",
      "model_name": "LayoutModel",
      "state": {
       "_model_module": "@jupyter-widgets/base",
       "_model_module_version": "2.0.0",
       "_model_name": "LayoutModel",
       "_view_count": null,
       "_view_module": "@jupyter-widgets/base",
       "_view_module_version": "2.0.0",
       "_view_name": "LayoutView",
       "align_content": null,
       "align_items": null,
       "align_self": null,
       "border_bottom": null,
       "border_left": null,
       "border_right": null,
       "border_top": null,
       "bottom": null,
       "display": null,
       "flex": null,
       "flex_flow": null,
       "grid_area": null,
       "grid_auto_columns": null,
       "grid_auto_flow": null,
       "grid_auto_rows": null,
       "grid_column": null,
       "grid_gap": null,
       "grid_row": null,
       "grid_template_areas": null,
       "grid_template_columns": null,
       "grid_template_rows": null,
       "height": null,
       "justify_content": null,
       "justify_items": null,
       "left": null,
       "margin": null,
       "max_height": null,
       "max_width": null,
       "min_height": null,
       "min_width": null,
       "object_fit": null,
       "object_position": null,
       "order": null,
       "overflow": null,
       "padding": null,
       "right": null,
       "top": null,
       "visibility": null,
       "width": null
      }
     },
     "d01ca0edea1546c8b7c526bca9e69013": {
      "model_module": "@jupyter-widgets/controls",
      "model_module_version": "2.0.0",
      "model_name": "FloatProgressModel",
      "state": {
       "_dom_classes": [],
       "_model_module": "@jupyter-widgets/controls",
       "_model_module_version": "2.0.0",
       "_model_name": "FloatProgressModel",
       "_view_count": null,
       "_view_module": "@jupyter-widgets/controls",
       "_view_module_version": "2.0.0",
       "_view_name": "ProgressView",
       "bar_style": "success",
       "description": "",
       "description_allow_html": false,
       "layout": "IPY_MODEL_c0afcf2b72734e8daec6ac8964858c4f",
       "max": 61,
       "min": 0,
       "orientation": "horizontal",
       "style": "IPY_MODEL_a2f0c7e1e364400d9a09ddf0c78587b4",
       "tabbable": null,
       "tooltip": null,
       "value": 61
      }
     },
     "e73b192c1c474d27808a0202edaa114c": {
      "model_module": "@jupyter-widgets/base",
      "model_module_version": "2.0.0",
      "model_name": "LayoutModel",
      "state": {
       "_model_module": "@jupyter-widgets/base",
       "_model_module_version": "2.0.0",
       "_model_name": "LayoutModel",
       "_view_count": null,
       "_view_module": "@jupyter-widgets/base",
       "_view_module_version": "2.0.0",
       "_view_name": "LayoutView",
       "align_content": null,
       "align_items": null,
       "align_self": null,
       "border_bottom": null,
       "border_left": null,
       "border_right": null,
       "border_top": null,
       "bottom": null,
       "display": null,
       "flex": null,
       "flex_flow": null,
       "grid_area": null,
       "grid_auto_columns": null,
       "grid_auto_flow": null,
       "grid_auto_rows": null,
       "grid_column": null,
       "grid_gap": null,
       "grid_row": null,
       "grid_template_areas": null,
       "grid_template_columns": null,
       "grid_template_rows": null,
       "height": null,
       "justify_content": null,
       "justify_items": null,
       "left": null,
       "margin": null,
       "max_height": null,
       "max_width": null,
       "min_height": null,
       "min_width": null,
       "object_fit": null,
       "object_position": null,
       "order": null,
       "overflow": null,
       "padding": null,
       "right": null,
       "top": null,
       "visibility": null,
       "width": null
      }
     }
    },
    "version_major": 2,
    "version_minor": 0
   }
  }
 },
 "nbformat": 4,
 "nbformat_minor": 5
}
